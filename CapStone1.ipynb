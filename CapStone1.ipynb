{
  "nbformat": 4,
  "nbformat_minor": 0,
  "metadata": {
    "colab": {
      "provenance": [],
      "collapsed_sections": [],
      "include_colab_link": true
    },
    "kernelspec": {
      "name": "python3",
      "display_name": "Python 3"
    },
    "language_info": {
      "name": "python"
    }
  },
  "cells": [
    {
      "cell_type": "markdown",
      "metadata": {
        "id": "view-in-github",
        "colab_type": "text"
      },
      "source": [
        "<a href=\"https://colab.research.google.com/github/Aparnakhaleanwar/Capstone1_EDA/blob/main/CapStone1.ipynb\" target=\"_parent\"><img src=\"https://colab.research.google.com/assets/colab-badge.svg\" alt=\"Open In Colab\"/></a>"
      ]
    },
    {
      "cell_type": "code",
      "execution_count": null,
      "metadata": {
        "id": "cbregg73RTn7"
      },
      "outputs": [],
      "source": [
        "# Importing python libraries\n",
        "import numpy as np\n",
        "import pandas as pd\n",
        "import matplotlib\n",
        "import matplotlib.pyplot as plt\n",
        "import seaborn as sns\n",
        "import folium\n",
        "import plotly.express as px\n",
        "%matplotlib inline"
      ]
    },
    {
      "cell_type": "code",
      "source": [
        "df = pd.read_csv(\"/content/Hotel_Bookings_2.csv\")\n",
        "\n",
        "print(df.to_string()) "
      ],
      "metadata": {
        "id": "ZUqW92hgSLse"
      },
      "execution_count": null,
      "outputs": []
    },
    {
      "cell_type": "code",
      "source": [
        "#verify data types of all columns\n",
        "df.dtypes\n"
      ],
      "metadata": {
        "id": "M4lwNjcBY-GQ"
      },
      "execution_count": null,
      "outputs": []
    },
    {
      "cell_type": "markdown",
      "source": [
        "***Agent wise bookings Analysis***"
      ],
      "metadata": {
        "id": "CbbH74oi1RRW"
      }
    },
    {
      "cell_type": "code",
      "source": [
        "#for Agent Analysis, replaced NaN values by 0 to perform further investigation.\n",
        "df['agent'] = df['agent'].fillna(0)\n",
        "df['agent']=df['agent'].astype(int)\n",
        "df.dtypes"
      ],
      "metadata": {
        "id": "9T37NtTqcqBr"
      },
      "execution_count": null,
      "outputs": []
    },
    {
      "cell_type": "code",
      "source": [
        "#Remove company data where company is not associated with hotel\n",
        "df.drop(df[(df['agent'] == 0)].index, inplace=True)\n",
        "#Find count of each agent to predict which agent has given maximum business which can be considered while providing commission to agent.\n",
        "df_Agent = df['agent'].value_counts().reset_index().rename(columns = {'index':'Agent','agent':'Agent_wise_bookings'}).sort_values(by = 'Agent_wise_bookings', ascending = False)\n",
        "df_Agent = df_Agent.nlargest(10, ['Agent']) # Find top 5 agents providing maximum business.\n",
        "plt.figure(figsize = (10,5))\n",
        "print (df_Agent)\n",
        "sns.barplot(x = 'Agent', y = 'Agent_wise_bookings', data = df_Agent, order = df_Agent.sort_values('Agent_wise_bookings', ascending = False).Agent)"
      ],
      "metadata": {
        "id": "FUNPITrEdXFo"
      },
      "execution_count": null,
      "outputs": []
    },
    {
      "cell_type": "markdown",
      "source": [
        "***Company wise bookings Analysis***"
      ],
      "metadata": {
        "id": "k9pzdkOq1et9"
      }
    },
    {
      "cell_type": "code",
      "source": [
        "#Company Analysis\n",
        "df['company'] = df['company'].fillna(0)\n",
        "df['company']=df['company'].astype(int)\n",
        "df.dtypes"
      ],
      "metadata": {
        "id": "L6G6UU9p--e9"
      },
      "execution_count": null,
      "outputs": []
    },
    {
      "cell_type": "code",
      "source": [
        "\n",
        "#Find Unique companies\n",
        "\n",
        "df['company'].unique()"
      ],
      "metadata": {
        "id": "rr6nwIKhh1UK"
      },
      "execution_count": null,
      "outputs": []
    },
    {
      "cell_type": "code",
      "source": [
        "#Remove company data where company is not associated with hotel\n",
        "df.drop(df[(df['company'] == 0)].index, inplace=True)\n",
        "#Find company wise hotel count. so if we considered it's a chain of hotel associated with any company then this data will \n",
        "#show which company hotels are preferable.\n",
        "df['company'].value_counts()\n",
        "#Find count of each company to predict which company is getting maximum business.\n",
        "df_Company = df['company'].value_counts().reset_index().rename(columns = {'index':'Company','company':'Company_Owned_Hotels'}).sort_values(by = 'Company_Owned_Hotels', ascending = False)\n",
        "df_Company = df_Company.nlargest(10, ['Company_Owned_Hotels']) # Find top 5 agents providing maximum business.\n",
        "plt.figure(figsize = (10,5))\n",
        "print (df_Company)\n",
        "#sns.barplot(x = 'Company', y = 'Company_Owned_Hotels', data = df_Company, order = df_Company.sort_values('Company_Owned_Hotels', ascending = False).Company)"
      ],
      "metadata": {
        "id": "fJ24thKWA4k0"
      },
      "execution_count": null,
      "outputs": []
    },
    {
      "cell_type": "markdown",
      "source": [
        "**Market Segment -Booking Analysis**\n"
      ],
      "metadata": {
        "id": "sdsV2tRgII2i"
      }
    },
    {
      "cell_type": "code",
      "source": [
        "#Find count of each market segment to predict which segment is popular.\n",
        "df_Market_Segment = df['market_segment'].value_counts().reset_index().rename(columns = {'index':'MarketSegment','market_segment':'MarketSegment_Wise_Count'}).sort_values(by = 'MarketSegment_Wise_Count', ascending = False)\n",
        "plt.figure(figsize = (10,5))\n",
        "print (df_Market_Segment)\n",
        "#sns.barplot(x = 'MarketSegment', y = 'MarketSegment_Wise_Count', data = df_Market_Segment, order = df_Market_Segment.sort_values('MarketSegment_Wise_Count', ascending = False).MarketSegment)\n",
        "df_Market_Segment.groupby(['MarketSegment']).sum().plot(kind='pie',y='MarketSegment_Wise_Count',autopct='%1.0f%%')"
      ],
      "metadata": {
        "id": "iDV-DMuRINJm"
      },
      "execution_count": null,
      "outputs": []
    },
    {
      "cell_type": "markdown",
      "source": [
        "***Distributor channel analysis***"
      ],
      "metadata": {
        "id": "oLbq4zn_vjHq"
      }
    },
    {
      "cell_type": "markdown",
      "source": [
        "Q1)What is booking % against each distribution channel."
      ],
      "metadata": {
        "id": "OHUmlhtT8z0U"
      }
    },
    {
      "cell_type": "code",
      "source": [
        "#Find count of each distribution channel to predict which distribution channel is used by maximum customer for hotel booking .\n",
        "df_Distribution_Channel = df['distribution_channel'].value_counts().reset_index().rename(columns = {'index':'DistributionChannel','distribution_channel':'Distribution_Channel_Wise_Count'}).sort_values(by = 'Distribution_Channel_Wise_Count', ascending = False)\n",
        "plt.figure(figsize = (10,5))\n",
        "print (df_Distribution_Channel)\n",
        "df_Distribution_Channel.groupby(['DistributionChannel']).sum().plot(kind='pie',y='Distribution_Channel_Wise_Count',autopct='%1.0f%%')"
      ],
      "metadata": {
        "id": "tGj9V8Qvvooh"
      },
      "execution_count": null,
      "outputs": []
    },
    {
      "cell_type": "markdown",
      "source": [
        "Q2)Which distribution channel is giving more business to hotels on basis of hotel type?"
      ],
      "metadata": {
        "id": "vEZwS90S9dj7"
      }
    },
    {
      "cell_type": "code",
      "source": [
        "dc_hotel = df.groupby(['distribution_channel', 'hotel'])\n",
        "df_dc_hotel = pd.DataFrame(round((dc_hotel['adr']).agg(np.mean),2)).reset_index().rename(columns = {'adr': 'avg_adr'})\n",
        "plt.figure(figsize = (7,5))\n",
        "#sns.barplot(x = df_dc_hotel['distribution_channel'], y = df_dc_hotel['avg_adr'], hue = df_dc_hotel['hotel'])\n",
        "plt.ylim(40,140)\n",
        "plt.show()"
      ],
      "metadata": {
        "id": "4C1GMa5e-fh4"
      },
      "execution_count": null,
      "outputs": []
    },
    {
      "cell_type": "markdown",
      "source": [
        "***deposit vs cancellation***"
      ],
      "metadata": {
        "id": "nIrApAxHv5Ix"
      }
    },
    {
      "cell_type": "code",
      "source": [
        "dt_rs = df.groupby(['deposit_type', 'reservation_status'])\n",
        "df_dt_rs = pd.DataFrame(round((dt_rs['adr']).agg(np.mean),2)).reset_index().rename(columns = {'adr': 'avg_adr'})\n",
        "plt.figure(figsize = (7,5))\n",
        "sns.barplot(x = df_dt_rs['deposit_type'], y = df_dt_rs['avg_adr'], hue = df_dt_rs['reservation_status'])\n",
        "plt.ylim(40,140)\n",
        "plt.show()"
      ],
      "metadata": {
        "id": "xSXeESJW-eoD"
      },
      "execution_count": null,
      "outputs": []
    },
    {
      "cell_type": "code",
      "source": [
        "plt.subplot(1, 2, 2)\n",
        "sns.countplot(data = df, x = 'stays_in_weekend_nights', hue='is_canceled', palette='rocket')\n",
        "plt.title('WeekendStay vs Cancelation',fontweight=\"bold\", size=20)\n",
        "plt.subplots_adjust(right=1.7)\n",
        "\n",
        "plt.show()"
      ],
      "metadata": {
        "id": "Xh9HWk-FTYQ3"
      },
      "execution_count": null,
      "outputs": []
    },
    {
      "cell_type": "markdown",
      "source": [
        "***Cancellation reasons on basis of days_in_waiting_list/required_car_parking_spaces/total_of_special_requests***"
      ],
      "metadata": {
        "id": "COKjF5yuBnBS"
      }
    },
    {
      "cell_type": "code",
      "source": [
        "waiting_bookings = df[df['days_in_waiting_list'] !=0]  # Selecting bookings with non zero waiting time\n",
        "\n",
        "fig, axes = plt.subplots(1, 2, figsize=(18, 8))\n",
        "sns.kdeplot(ax=axes[0],x = 'days_in_waiting_list', hue = 'is_canceled' , data = waiting_bookings)\n",
        "sns.kdeplot(ax=axes[1],x = df['lead_time'], hue = df['is_canceled'])\n",
        "plt.show()\n"
      ],
      "metadata": {
        "id": "6xbk28bfwC-4"
      },
      "execution_count": null,
      "outputs": []
    },
    {
      "cell_type": "code",
      "source": [
        "Req_CarParking = df[df['required_car_parking_spaces'] !=0]  # Selecting bookings with non zero waiting time\n",
        "\n",
        "fig, axes = plt.subplots(1, 2, figsize=(18, 8))\n",
        "sns.kdeplot(ax=axes[0],x = 'required_car_parking_spaces', hue = 'is_canceled' , data = Req_CarParking)\n",
        "sns.kdeplot(ax=axes[1],x = df['required_car_parking_spaces'], hue = df['is_canceled'])\n",
        "plt.show()"
      ],
      "metadata": {
        "id": "DExawZ07DzEn"
      },
      "execution_count": null,
      "outputs": []
    },
    {
      "cell_type": "code",
      "source": [
        "SpecialRequests = df[df['total_of_special_requests'] !=0]  # Selecting bookings with non zero waiting time\n",
        "\n",
        "fig, axes = plt.subplots(1, 2, figsize=(18, 8))\n",
        "sns.kdeplot(ax=axes[0],x = 'total_of_special_requests', hue = 'is_canceled' , data = SpecialRequests)\n",
        "sns.kdeplot(ax=axes[1],x = df['total_of_special_requests'], hue = df['is_canceled'])\n",
        "plt.show()"
      ],
      "metadata": {
        "id": "iDsTOTGIEczR"
      },
      "execution_count": null,
      "outputs": []
    },
    {
      "cell_type": "markdown",
      "source": [
        "***ADR***\n",
        "Q1. adr min room sold maximum and vicevarsa\n",
        "Q2. adr relation cancellation\n",
        "Q3. relation profiit\n",
        "Q4.hotel higher booking cancellation rate another question"
      ],
      "metadata": {
        "id": "5nx83TUwjnSR"
      }
    },
    {
      "cell_type": "markdown",
      "source": [
        "average daily rate per person =  ADR/Adults+Children"
      ],
      "metadata": {
        "id": "uGm-IwRFkDxi"
      }
    },
    {
      "cell_type": "code",
      "source": [
        "ADR_For_NonCanceledBooking = df[df['is_canceled'] !=1]  \n",
        "ADR_For_NonCanceledBooking['Kids'] = ADR_For_NonCanceledBooking.children + ADR_For_NonCanceledBooking.babies\n",
        "ADR_For_NonCanceledBooking['Total_Guests'] = ADR_For_NonCanceledBooking.Kids + ADR_For_NonCanceledBooking.adults\n",
        "ADR_For_NonCanceledBooking['ADR_pp'] = (ADR_For_NonCanceledBooking.adr/ADR_For_NonCanceledBooking.Total_Guests)\n",
        "\n",
        "ADR_For_NonCanceledBooking['TotalDays'] = ADR_For_NonCanceledBooking.stays_in_weekend_nights + ADR_For_NonCanceledBooking.stays_in_week_nights\n",
        "ADR_For_NonCanceledBooking['HotelRevenue'] = (ADR_For_NonCanceledBooking.ADR_pp*ADR_For_NonCanceledBooking.TotalDays)\n",
        "#print (ADR_For_NonCanceledBooking)\n",
        "sns.lineplot(data = ADR_For_NonCanceledBooking, x = 'arrival_date_month', y = 'HotelRevenue', hue = 'hotel')\n",
        "plt.show()\n",
        "\n",
        "### Prices of resort hotel are higher than city hotels."
      ],
      "metadata": {
        "id": "Ac0oXgPYjr7g"
      },
      "execution_count": null,
      "outputs": []
    },
    {
      "cell_type": "markdown",
      "source": [
        "***Analysis on basis of is_repeated_guest column***"
      ],
      "metadata": {
        "id": "CDgOZ7l5xh8g"
      }
    },
    {
      "cell_type": "code",
      "source": [
        "plt.figure(figsize=(8,6))\n",
        "sns.countplot(data = df, x = 'is_repeated_guest').set_title('Display count of repeated guests', fontsize = 20)\n",
        "plt.show()"
      ],
      "metadata": {
        "id": "BcIV06jZxiZz"
      },
      "execution_count": null,
      "outputs": []
    }
  ]
}